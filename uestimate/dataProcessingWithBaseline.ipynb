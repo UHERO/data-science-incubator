{
 "cells": [
  {
   "cell_type": "code",
   "execution_count": 14,
   "metadata": {},
   "outputs": [],
   "source": [
    "from pymongo import MongoClient\n",
    "import os, re\n",
    "from sklearn import linear_model\n",
    "\n",
    "MONGO_USER = os.environ['MONGO_USER']\n",
    "MONGO_PASS = os.environ['MONGO_PASS']\n",
    "MONGO_URL = os.environ['MONGO_URL']"
   ]
  },
  {
   "cell_type": "markdown",
   "metadata": {},
   "source": [
    "### Connecting to the database"
   ]
  },
  {
   "cell_type": "code",
   "execution_count": 2,
   "metadata": {},
   "outputs": [],
   "source": [
    "uri = \"mongodb://%s:%s@%s\" % (\n",
    "    MONGO_USER, MONGO_PASS, MONGO_URL)\n",
    "\n",
    "client = MongoClient(uri)\n",
    "db = client['HonoluluProperty']"
   ]
  },
  {
   "cell_type": "code",
   "execution_count": 21,
   "metadata": {},
   "outputs": [],
   "source": [
    "p = re.compile('/.*(2017)/', re.IGNORECASE)\n",
    "\n",
    "cursor = db['hnl_county_data'].find({'SalesInformation.0.saleDate': { '$regex': '.*(2017)' }})"
   ]
  },
  {
   "cell_type": "code",
   "execution_count": 22,
   "metadata": {},
   "outputs": [
    {
     "data": {
      "text/plain": [
       "11564"
      ]
     },
     "execution_count": 22,
     "metadata": {},
     "output_type": "execute_result"
    }
   ],
   "source": [
    "len(list(cursor))"
   ]
  },
  {
   "cell_type": "code",
   "execution_count": 5,
   "metadata": {},
   "outputs": [],
   "source": [
    "client.close()"
   ]
  }
 ],
 "metadata": {
  "kernelspec": {
   "display_name": "Python 3",
   "language": "python",
   "name": "python3"
  },
  "language_info": {
   "codemirror_mode": {
    "name": "ipython",
    "version": 3
   },
   "file_extension": ".py",
   "mimetype": "text/x-python",
   "name": "python",
   "nbconvert_exporter": "python",
   "pygments_lexer": "ipython3",
   "version": "3.6.4"
  }
 },
 "nbformat": 4,
 "nbformat_minor": 2
}
